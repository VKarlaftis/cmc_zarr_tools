{
 "cells": [
  {
   "cell_type": "code",
   "execution_count": null,
   "id": "b4d0e9ba",
   "metadata": {},
   "outputs": [],
   "source": [
    "# Notebook to compare visualisation results for NIfTI vs OME-zarr using Neuroglancer & ngff-zarr\n",
    "import subprocess\n",
    "\n",
    "inp_files = ['/Users/Vasilis/CMC_data/Moe/MRI/reoriented_FA.nii.gz',\n",
    "             '/Users/Vasilis/Downloads/CMC_results/Moe_cc_Ret/slide_deck_to_mri.nii.gz',\n",
    "            #  '/Users/Vasilis/Downloads/CMC_results/Moe_cc_Ret/Retardance/lowres/Slice_111_EnR_downsample_10_hdr.nii.gz',\n",
    "             ]\n",
    "out_names = ['DTI_FA_in_native',\n",
    "             'PSOCT_Ret_in_DTI',\n",
    "            #  'PSOCT_Ret_slice_111_in_DTI',\n",
    "             ]\n",
    "out_folder = 'Moe_cc_Ret'\n",
    "\n",
    "inp_zarr = []\n",
    "for file, name in zip(inp_files, out_names):\n",
    "    inp_zarr.append(out_folder + '/' + name + '.zarr')\n",
    "    subprocess.run([\"ngff-zarr\",\n",
    "                    \"-i\", file,\n",
    "                    \"-o\", inp_zarr[-1],\n",
    "                    \"--ome-zarr-version\", str(0.5)\n",
    "                    ])\n",
    "\n",
    "subprocess.Popen([\"python\",\n",
    "                \"../visualize_zarr_ng/visualize_zarr.py\",\n",
    "                *inp_zarr,\n",
    "                \"--port\", str(8050),\n",
    "                \"--name\", *out_names])\n",
    "\n"
   ]
  },
  {
   "cell_type": "code",
   "execution_count": null,
   "id": "b59c15e4",
   "metadata": {},
   "outputs": [],
   "source": []
  }
 ],
 "metadata": {
  "kernelspec": {
   "display_name": "Python 3",
   "language": "python",
   "name": "python3"
  },
  "language_info": {
   "codemirror_mode": {
    "name": "ipython",
    "version": 3
   },
   "file_extension": ".py",
   "mimetype": "text/x-python",
   "name": "python",
   "nbconvert_exporter": "python",
   "pygments_lexer": "ipython3",
   "version": "3.13.7"
  }
 },
 "nbformat": 4,
 "nbformat_minor": 5
}
